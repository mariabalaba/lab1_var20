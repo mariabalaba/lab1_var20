{
  "nbformat": 4,
  "nbformat_minor": 0,
  "metadata": {
    "colab": {
      "name": "lab1 20вариант.ipynb",
      "provenance": [],
      "collapsed_sections": [],
      "authorship_tag": "ABX9TyP8kVGNPHQ8mm5wCdhqL1fP",
      "include_colab_link": true
    },
    "kernelspec": {
      "name": "python3",
      "display_name": "Python 3"
    }
  },
  "cells": [
    {
      "cell_type": "markdown",
      "metadata": {
        "id": "view-in-github",
        "colab_type": "text"
      },
      "source": [
        "<a href=\"https://colab.research.google.com/github/mariabalaba/lab1_var20/blob/main/lab1_20%D0%B2%D0%B0%D1%80%D0%B8%D0%B0%D0%BD%D1%82.ipynb\" target=\"_parent\"><img src=\"https://colab.research.google.com/assets/colab-badge.svg\" alt=\"Open In Colab\"/></a>"
      ]
    },
    {
      "cell_type": "code",
      "metadata": {
        "id": "e-gen1NqIMA0"
      },
      "source": [
        "Z = [1, 2, 3, 4]\n",
        "Z.reverse()\n",
        "Z\n"
      ],
      "execution_count": null,
      "outputs": []
    },
    {
      "cell_type": "code",
      "metadata": {
        "id": "sPWtkVcV4kGj"
      },
      "source": [
        "import numpy as np\n",
        "Z = np.array([1, 2, 3, 4])\n",
        "Z[::-1]\n"
      ],
      "execution_count": null,
      "outputs": []
    },
    {
      "cell_type": "code",
      "metadata": {
        "id": "Dle6NhQ-6rsn"
      },
      "source": [
        "import timeit\n",
        "import numpy as np\n",
        "\n",
        "\n",
        "def python(size):\n",
        "    nonzero = []\n",
        "    Z = size\n",
        "for i in Z:\n",
        "    if i == 0:\n",
        "        pass\n",
        "    else:\n",
        "        nonzero.append(Z.index(i))\n",
        "\n",
        "    def nonpy(size):\n",
        "        Z = np.array(size)\n",
        "        np.nonzero(Z)\n",
        "\n",
        "if __name__ == '__main__':\n",
        "    start_time = timeit.default_timer()\n",
        "    python([1, 2, 0, 0, 4, 0])\n",
        "    range_time_1 = timeit.default_timer() - start_time\n",
        "\n",
        "    start_time = timeit.default_timer()\n",
        "    python([1, 2, 0, 0, 4, 0])\n",
        "    arange_time_1 = timeit.default_timer() - start_time\n",
        "\n",
        "    start_time = timeit.default_timer()\n",
        "    nonpy([1, 0, 2, 0, 3, 0, 4])\n",
        "    range_time_2 = timeit.default_timer() - start_time\n",
        "\n",
        "    start_time = timeit.default_timer()\n",
        "    nonpy([1, 0, 2, 0, 3, 0, 4])\n",
        "    arange_time_2 = timeit.default_timer() - start_time\n",
        "\n",
        "\n"
      ],
      "execution_count": 12,
      "outputs": []
    },
    {
      "cell_type": "code",
      "metadata": {
        "id": "EDUOUA8F9LUc"
      },
      "source": [
        "print('Array size: [1, 2, 0, 0, 4, 0]')\n",
        "\n",
        "print(f'size [1, 2, 0, 0, 4, 0]: range() время {range_time_1}')\n",
        "print(f'size [1, 2, 0, 0, 4, 0]: arange() время {arange_time_1}')\n",
        "\n",
        "print('Array size: [1, 0, 2, 0, 3, 0, 4]')\n",
        "print(f'size [1, 0, 2, 0, 3, 0, 4]: range() время {range_time_2}')\n",
        "print(f'size [1, 0, 2, 0, 3, 0, 4]: arange() время {arange_time_2}')\n",
        "\n"
      ],
      "execution_count": null,
      "outputs": []
    }
  ]
}